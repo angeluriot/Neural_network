{
 "cells": [
  {
   "cell_type": "markdown",
   "metadata": {},
   "source": [
    "# Import the library"
   ]
  },
  {
   "cell_type": "code",
   "execution_count": null,
   "metadata": {},
   "outputs": [],
   "source": [
    "import sys\n",
    "sys.path.insert(0, '..')\n",
    "\n",
    "import numpy as np\n",
    "import matplotlib.pyplot as plt\n",
    "import pickle, gzip, random\n",
    "from neural_network import Model\n",
    "from neural_network.layers import Input, Linear, ReLU, Softmax\n",
    "from neural_network.optimizers import SGD\n",
    "from neural_network.losses import NegativeLogLikelihood"
   ]
  },
  {
   "cell_type": "markdown",
   "metadata": {},
   "source": [
    "# Import the dataset"
   ]
  },
  {
   "cell_type": "code",
   "execution_count": null,
   "metadata": {},
   "outputs": [],
   "source": [
    "with gzip.open('data/mnist.pkl.gz', 'rb') as f:\n",
    "\tdata = pickle._Unpickler(f)\n",
    "\tdata.encoding = 'latin1'\n",
    "\ttrain, valid, test = data.load()\n",
    "\n",
    "x_train = np.array(train[0])\n",
    "y_train = np.array(train[1])\n",
    "x_valid = np.array(valid[0])\n",
    "y_valid = np.array(valid[1])\n",
    "x_test = np.array(test[0])\n",
    "y_test = np.array(test[1])"
   ]
  },
  {
   "cell_type": "markdown",
   "metadata": {},
   "source": [
    "# Create the model"
   ]
  },
  {
   "cell_type": "code",
   "execution_count": null,
   "metadata": {},
   "outputs": [],
   "source": [
    "model = Model()\n",
    "model.add(Input(28 * 28))\n",
    "model.add(Linear(128))\n",
    "model.add(ReLU())\n",
    "model.add(Linear(10))\n",
    "model.add(ReLU())\n",
    "model.add(Softmax())\n",
    "model.compile(NegativeLogLikelihood(), SGD())"
   ]
  },
  {
   "cell_type": "markdown",
   "metadata": {},
   "source": [
    "# Train the model"
   ]
  },
  {
   "cell_type": "code",
   "execution_count": null,
   "metadata": {},
   "outputs": [],
   "source": [
    "model.train(x_train, y_train, epochs = 10, batch_size = 10, x_val = x_valid, y_val = y_valid, print_frequency = 1000)"
   ]
  },
  {
   "cell_type": "markdown",
   "metadata": {},
   "source": [
    "# Test the model"
   ]
  },
  {
   "cell_type": "code",
   "execution_count": null,
   "metadata": {},
   "outputs": [],
   "source": [
    "model.test(x_test, y_test)"
   ]
  },
  {
   "cell_type": "code",
   "execution_count": null,
   "metadata": {},
   "outputs": [],
   "source": [
    "digit = x_test[random.randint(0, x_test.shape[0])]\n",
    "fig = plt.imshow(digit.reshape(28, 28), cmap='Greys')\n",
    "fig.axes.get_xaxis().set_visible(False)\n",
    "fig.axes.get_yaxis().set_visible(False)\n",
    "plt.show()\n",
    "print(\"Model prediction:\", model.predict(digit))"
   ]
  }
 ],
 "metadata": {
  "interpreter": {
   "hash": "f2dff98761a0688aebc0d8f513ff3b684d9da1f5e84de30b517434bc2fcc5df8"
  },
  "kernelspec": {
   "display_name": "Python 3.10.0 ('venv': venv)",
   "language": "python",
   "name": "python3"
  },
  "language_info": {
   "codemirror_mode": {
    "name": "ipython",
    "version": 3
   },
   "file_extension": ".py",
   "mimetype": "text/x-python",
   "name": "python",
   "nbconvert_exporter": "python",
   "pygments_lexer": "ipython3",
   "version": "3.10.0"
  },
  "orig_nbformat": 4
 },
 "nbformat": 4,
 "nbformat_minor": 2
}
