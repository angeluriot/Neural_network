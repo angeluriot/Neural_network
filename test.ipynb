{
 "cells": [
  {
   "cell_type": "markdown",
   "metadata": {},
   "source": [
    "# Import the library"
   ]
  },
  {
   "cell_type": "code",
   "execution_count": 11,
   "metadata": {},
   "outputs": [],
   "source": [
    "import numpy as np\n",
    "import matplotlib.pyplot as plt\n",
    "import pickle, gzip, random\n",
    "from neural_network import Model\n",
    "from neural_network.layers import Input, Linear, ReLU, Softmax\n",
    "from neural_network.optimizers import SGD\n",
    "from neural_network.losses import NegativeLogLikelihood"
   ]
  },
  {
   "cell_type": "markdown",
   "metadata": {},
   "source": [
    "# Import the dataset"
   ]
  },
  {
   "cell_type": "code",
   "execution_count": 12,
   "metadata": {},
   "outputs": [],
   "source": [
    "with gzip.open('mnist.pkl.gz', 'rb') as f:\n",
    "\tdata = pickle._Unpickler(f)\n",
    "\tdata.encoding = 'latin1'\n",
    "\ttrain, valid, test = data.load()\n",
    "\n",
    "x_train = np.array(train[0])\n",
    "y_train = np.array(train[1])\n",
    "x_valid = np.array(valid[0])\n",
    "y_valid = np.array(valid[1])\n",
    "x_test = np.array(test[0])\n",
    "y_test = np.array(test[1])"
   ]
  },
  {
   "cell_type": "markdown",
   "metadata": {},
   "source": [
    "# Create the model"
   ]
  },
  {
   "cell_type": "code",
   "execution_count": 13,
   "metadata": {},
   "outputs": [],
   "source": [
    "model = Model()\n",
    "model.add(Input(28 * 28))\n",
    "model.add(Linear(128))\n",
    "model.add(ReLU())\n",
    "model.add(Linear(10))\n",
    "model.add(ReLU())\n",
    "model.add(Softmax())\n",
    "model.compile(NegativeLogLikelihood(), SGD())"
   ]
  },
  {
   "cell_type": "markdown",
   "metadata": {},
   "source": [
    "# Train the model"
   ]
  },
  {
   "cell_type": "code",
   "execution_count": 15,
   "metadata": {},
   "outputs": [
    {
     "name": "stdout",
     "output_type": "stream",
     "text": [
      "Epoch 1 | batch 5000 | train loss: 0.14 | train accuracy: 100.0% | val loss: 0.27 | val accuracy: 92.6%   \n",
      "Epoch 2 | batch 5000 | train loss: 0.07 | train accuracy: 100.0% | val loss: 0.21 | val accuracy: 94.1%   \n",
      "Epoch 3 | batch 5000 | train loss: 0.05 | train accuracy: 100.0% | val loss: 0.18 | val accuracy: 95.3%   \n",
      "Epoch 4 | batch 5000 | train loss: 0.04 | train accuracy: 100.0% | val loss: 0.16 | val accuracy: 95.8%   \n",
      "Epoch 5 | batch 5000 | train loss: 0.03 | train accuracy: 100.0% | val loss: 0.14 | val accuracy: 96.2%   \n",
      "Epoch 6 | batch 5000 | train loss: 0.03 | train accuracy: 100.0% | val loss: 0.13 | val accuracy: 96.6%   \n",
      "Epoch 7 | batch 5000 | train loss: 0.02 | train accuracy: 100.0% | val loss: 0.12 | val accuracy: 96.8%   \n",
      "Epoch 8 | batch 5000 | train loss: 0.02 | train accuracy: 100.0% | val loss: 0.11 | val accuracy: 96.9%   \n",
      "Epoch 9 | batch 5000 | train loss: 0.01 | train accuracy: 100.0% | val loss: 0.11 | val accuracy: 97.1%   \n",
      "Epoch 10 | batch 5000 | train loss: 0.01 | train accuracy: 100.0% | val loss: 0.10 | val accuracy: 97.1%   \n"
     ]
    }
   ],
   "source": [
    "model.train(x_train, y_train, epochs = 10, batch_size = 10, x_val = x_valid, y_val = y_valid, print_frequency = 1000)"
   ]
  },
  {
   "cell_type": "markdown",
   "metadata": {},
   "source": [
    "# Test the model"
   ]
  },
  {
   "cell_type": "code",
   "execution_count": 16,
   "metadata": {},
   "outputs": [
    {
     "name": "stdout",
     "output_type": "stream",
     "text": [
      "Test loss: 0.10 | test accuracy: 97.0%\n"
     ]
    },
    {
     "data": {
      "text/plain": [
       "(0.9697, array([0.10198972]))"
      ]
     },
     "execution_count": 16,
     "metadata": {},
     "output_type": "execute_result"
    }
   ],
   "source": [
    "model.test(x_test, y_test)"
   ]
  },
  {
   "cell_type": "code",
   "execution_count": 17,
   "metadata": {},
   "outputs": [
    {
     "data": {
      "image/png": "[encoded data removed]",
      "text/plain": [
       "<Figure size 432x288 with 1 Axes>"
      ]
     },
     "metadata": {
      "needs_background": "light"
     },
     "output_type": "display_data"
    },
    {
     "name": "stdout",
     "output_type": "stream",
     "text": [
      "Model prediction: 6\n"
     ]
    }
   ],
   "source": [
    "digit = x_test[random.randint(0, x_test.shape[0])]\n",
    "fig = plt.imshow(digit.reshape(28, 28), cmap='Greys')\n",
    "fig.axes.get_xaxis().set_visible(False)\n",
    "fig.axes.get_yaxis().set_visible(False)\n",
    "plt.show()\n",
    "print(\"Model prediction:\", model.predict(digit))"
   ]
  }
 ],
 "metadata": {
  "interpreter": {
   "hash": "f2dff98761a0688aebc0d8f513ff3b684d9da1f5e84de30b517434bc2fcc5df8"
  },
  "kernelspec": {
   "display_name": "Python 3.10.0 ('venv': venv)",
   "language": "python",
   "name": "python3"
  },
  "language_info": {
   "codemirror_mode": {
    "name": "ipython",
    "version": 3
   },
   "file_extension": ".py",
   "mimetype": "text/x-python",
   "name": "python",
   "nbconvert_exporter": "python",
   "pygments_lexer": "ipython3",
   "version": "3.10.0"
  },
  "orig_nbformat": 4
 },
 "nbformat": 4,
 "nbformat_minor": 2
}
