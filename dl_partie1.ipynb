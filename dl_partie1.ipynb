{
 "cells": [
  {
   "cell_type": "markdown",
   "metadata": {},
   "source": [
    "# Practical classes\n",
    "\n",
    "All exercices will be in Python. It is important that you keep track of exercices and structure you code correctly (e.g. create funcions that you can re-use later)\n",
    "\n",
    "We will use Jupyter notebooks (formerly known as IPython). You can read the following courses for help:\n",
    "* Python and numpy: http://cs231n.github.io/python-numpy-tutorial/\n",
    "* Jupyter / IPython : http://cs231n.github.io/ipython-tutorial/\n",
    "\n",
    "\n",
    "# Neural network: first experiments with a linear model\n",
    "\n",
    "In this first lab exercise we will code a neural network using numpy, without a neural network library.\n",
    "Next week, the lab exercise will be to extend this program with hidden layers and activation functions.\n",
    "\n",
    "The task is digit recognition: the neural network has to predict which digit in $\\{0...9\\}$ is written in the input picture. We will use the [MNIST](http://yann.lecun.com/exdb/mnist/) dataset, a standard benchmark in machine learning.\n",
    "\n",
    "The model is a simple linear  classifier $o = \\operatorname{softmax}(Wx + b)$ where:\n",
    "* $x$ is an input image that is represented as a column vector, each value being the \"color\" of a pixel\n",
    "* $W$ and $b$ are the parameters of the classifier\n",
    "* $\\operatorname{softmax}$ transforms the output weight (logits) into probabilities\n",
    "* $o$ is column vector that contains the probability of each category\n",
    "\n",
    "We will train this model via stochastic gradient descent by minimizing the negative log-likelihood of the data:\n",
    "$$\n",
    "    \\hat{W}, \\hat{b} = \\operatorname{argmin}_{W, b} \\sum_{x, y} - \\log p(y | x)\n",
    "$$\n",
    "Although this is a linear model, it classifies raw data without any manual feature extraction step."
   ]
  },
  {
   "cell_type": "code",
   "execution_count": 1,
   "metadata": {},
   "outputs": [],
   "source": [
    "# import libs that we will use\n",
    "import os\n",
    "import numpy as np\n",
    "import matplotlib.pyplot as plt\n",
    "import math\n",
    "from copy import deepcopy\n",
    "\n",
    "# To load the data we will use the script of Gaetan Marceau Caron\n",
    "# You can download it from the course webiste and move it to the same directory that contains this ipynb file\n",
    "import dataset_loader\n",
    "\n",
    "%matplotlib inline"
   ]
  },
  {
   "cell_type": "markdown",
   "metadata": {},
   "source": [
    "# 1. Data"
   ]
  },
  {
   "cell_type": "code",
   "execution_count": 2,
   "metadata": {},
   "outputs": [],
   "source": [
    "# Download mnist dataset\n",
    "if(\"mnist.pkl.gz\" not in os.listdir(\".\")):\n",
    "\t# this link doesn't work any more,\n",
    "\t# seach on google for the file \"mnist.pkl.gz\"\n",
    "\t# and download it\n",
    "\t!wget http://deeplearning.net/data/mnist/mnist.pkl.gz\n",
    "\n",
    "# if you have it somewhere else, you can comment the lines above\n",
    "# and overwrite the path below\n",
    "mnist_path = \"./mnist.pkl.gz\""
   ]
  },
  {
   "cell_type": "code",
   "execution_count": 3,
   "metadata": {},
   "outputs": [],
   "source": [
    "# load the 3 splits\n",
    "train_data, dev_data, test_data = dataset_loader.load_mnist(mnist_path)"
   ]
  },
  {
   "cell_type": "markdown",
   "metadata": {},
   "source": [
    "Each dataset is a list with two elemets:\n",
    "* data[0] contains images\n",
    "* data[1] contains labels\n",
    "\n",
    "Data is stored as numpy.ndarray. You can use data[0][i] to retrieve image number i and data[1][i] to retrieve its label."
   ]
  },
  {
   "cell_type": "code",
   "execution_count": 4,
   "metadata": {},
   "outputs": [
    {
     "name": "stdout",
     "output_type": "stream",
     "text": [
      "<class 'list'>\n",
      "<class 'numpy.ndarray'>\n",
      "<class 'numpy.ndarray'>\n",
      "<class 'numpy.ndarray'>\n",
      "<class 'numpy.int64'>\n"
     ]
    }
   ],
   "source": [
    "print(type(train_data))\n",
    "print(type(train_data[0]))\n",
    "print(type(train_data[1]))\n",
    "print(type(train_data[0][0]))\n",
    "print(type(train_data[1][0]))"
   ]
  },
  {
   "cell_type": "code",
   "execution_count": 5,
   "metadata": {},
   "outputs": [
    {
     "name": "stdout",
     "output_type": "stream",
     "text": [
      "label: 3\n"
     ]
    },
    {
     "data": {
      "image/png": "[encoded data removed]",
      "text/plain": [
       "<Figure size 432x288 with 1 Axes>"
      ]
     },
     "metadata": {
      "needs_background": "light"
     },
     "output_type": "display_data"
    }
   ],
   "source": [
    "index = 900\n",
    "label = train_data[1][index]\n",
    "picture = train_data[0][index]\n",
    "\n",
    "print(\"label: %i\" % label)\n",
    "fig = plt.imshow(picture.reshape(28, 28), cmap='Greys')\n",
    "fig.axes.get_xaxis().set_visible(False)\n",
    "fig.axes.get_yaxis().set_visible(False)\n",
    "plt.show()"
   ]
  },
  {
   "cell_type": "markdown",
   "metadata": {},
   "source": [
    "**Question:** What are the characteristics of training data? (number of samples, dimension of input, number of labels)\n",
    "\n",
    "The documentation of ndarray class is available here: https://docs.scipy.org/doc/numpy/reference/generated/numpy.ndarray.html"
   ]
  },
  {
   "cell_type": "code",
   "execution_count": 6,
   "metadata": {},
   "outputs": [],
   "source": [
    "# Reponse : Il y a 50 000 images dans les données d'entrainement, elles contiennent 784 pixels, et il y a 10 classes."
   ]
  },
  {
   "cell_type": "code",
   "execution_count": 7,
   "metadata": {},
   "outputs": [],
   "source": [
    "def getDimDataset(data):\n",
    "\tnb_data = data[0].shape[0]\n",
    "\tnb_feature = data[0].shape[1]\n",
    "\tnb_label = len(set(data[1]))\n",
    "\treturn nb_data, nb_feature, nb_label"
   ]
  },
  {
   "cell_type": "code",
   "execution_count": 8,
   "metadata": {},
   "outputs": [
    {
     "data": {
      "text/plain": [
       "(50000, 784, 10)"
      ]
     },
     "execution_count": 8,
     "metadata": {},
     "output_type": "execute_result"
    }
   ],
   "source": [
    "getDimDataset(train_data)"
   ]
  },
  {
   "cell_type": "markdown",
   "metadata": {},
   "source": [
    "# 1. Building functions\n",
    "\n",
    "We now need to build functions that are required for the neural network.\n",
    "$$\n",
    "    o = \\operatorname{softmax}(Wx + b) \\\\\n",
    "    L(x, y) = -\\log p(y | x) = -\\log o[y]\n",
    "$$\n",
    "\n",
    "Note that in numpy, operator @ is used for matrix multiplication while * is used for element-wise multiplication.\n",
    "The documentation for linear algebra in numpy is available here: https://docs.scipy.org/doc/numpy/reference/routines.linalg.html\n",
    "\n",
    "The first operation is the affine transformation $v = Wx + b$.\n",
    "To compute the gradient, it is often convenient to write the forward pass as $v[i] = b[i] + \\sum_j W[i, j] x[j]$."
   ]
  },
  {
   "cell_type": "code",
   "execution_count": 9,
   "metadata": {},
   "outputs": [],
   "source": [
    "# Input:\n",
    "# - W: projection matrix\n",
    "# - b: bias\n",
    "# - x: input features\n",
    "# Output:\n",
    "# - vector\n",
    "def affine_transform(W, b, x):\n",
    "\ty = W @ x + b\n",
    "\treturn y\n",
    "\n",
    "# Input:\n",
    "# - W: projection matrix\n",
    "# - b: bias\n",
    "# - x: input features\n",
    "# - g: incoming gradient\n",
    "# Output:\n",
    "# - g_W: gradient wrt W\n",
    "# - g_b: gradient wrt b\n",
    "def backward_affine_transform(W, b, x, g):\n",
    "\tg_W = np.outer(g, x)\n",
    "\tg_b = g\n",
    "\treturn g_W, g_b"
   ]
  },
  {
   "cell_type": "markdown",
   "metadata": {},
   "source": [
    "The next cell is a (too simple) test of affine_transform and backward_affine_transform.\n",
    "It should run without error if your implementation is correct."
   ]
  },
  {
   "cell_type": "code",
   "execution_count": 10,
   "metadata": {},
   "outputs": [],
   "source": [
    "W = np.asarray([[ 0.63024213, 0.53679375, -0.92079597],\n",
    "\t[-0.1155045, 0.62780356, -0.67961305],\n",
    "\t[ 0.08465286, -0.06561815, -0.39778322],\n",
    "\t[ 0.8242268, 0.58907262, -0.52208052],\n",
    "\t[-0.43894227, -0.56993247, 0.09520727]])\n",
    "b = np.asarray([ 0.42706842, 0.69636598, -0.85611933, -0.08682553, 0.83160079])\n",
    "x = np.asarray([-0.32809223, -0.54751413, 0.81949319])\n",
    "\n",
    "o_gold = np.asarray([-0.82819732, -0.16640748, -1.17394705, -1.10761496, 1.36568213])\n",
    "g = np.asarray([-0.08938868, 0.44083873, -0.2260743, -0.96196726, -0.53428805])\n",
    "g_W_gold = np.asarray([[ 0.02932773, 0.04894156, -0.07325341],\n",
    "\t[-0.14463576, -0.24136543, 0.36126434],\n",
    "\t[ 0.07417322, 0.12377887, -0.18526635],\n",
    "\t[ 0.31561399, 0.52669067, -0.78832562],\n",
    "\t[ 0.17529576, 0.29253025, -0.43784542]])\n",
    "g_b_gold = np.asarray([-0.08938868, 0.44083873, -0.2260743, -0.96196726, -0.53428805])\n",
    "\n",
    "\n",
    "# quick test of the forward pass\n",
    "o = affine_transform(W, b, x)\n",
    "if o.shape != o_gold.shape:\n",
    "\traise RuntimeError(\"Unexpected output dimension: got %s, expected %s\" % (str(o.shape), str(o_gold.shape)))\n",
    "if not np.allclose(o, o_gold):\n",
    "\traise RuntimeError(\"Output of the affine_transform function is incorrect\")\n",
    "\n",
    "# quick test if the backward pass\n",
    "g_W, g_b = backward_affine_transform(W, b, x, g)\n",
    "if g_W.shape != g_W_gold.shape:\n",
    "\traise RuntimeError(\"Unexpected gradient dimension for W: got %s, expected %s\" % (str(g_W.shape), str(g_W_gold.shape)))\n",
    "if g_b.shape != g_b_gold.shape:\n",
    "\traise RuntimeError(\"Unexpected gradient dimension for b: got %s, expected %s\" % (str(g_b.shape), str(g_b_gold.shape)))\n",
    "if not np.allclose(g_W, g_W_gold):\n",
    "\traise RuntimeError(\"Gradient of W is incorrect\")\n",
    "if not np.allclose(g_b, g_b_gold):\n",
    "\traise RuntimeError(\"Gradient of b is incorrect\")"
   ]
  },
  {
   "cell_type": "markdown",
   "metadata": {},
   "source": [
    "The softmax function:\n",
    "$$\n",
    "     o = \\operatorname{softmax}(w)\n",
    "$$\n",
    "where $v$ is a vector of logits in $\\mathbb R$ and $o$ a vector of probabilities such that:\n",
    "$$\n",
    "    o[i] = \\frac{\\exp(w[i])}{\\sum_j \\exp(w[j])}\n",
    "$$\n",
    "We do not need to implement the backward for this experiment."
   ]
  },
  {
   "cell_type": "code",
   "execution_count": 11,
   "metadata": {},
   "outputs": [],
   "source": [
    "# Input:\n",
    "# - y: vector of logits\n",
    "# Output\n",
    "# - vector of probabilities\n",
    "def softmax(y):\n",
    "\tb = np.array(y).max()\n",
    "\te = np.exp(np.array(y) - b)\n",
    "\treturn e / e.sum()"
   ]
  },
  {
   "cell_type": "markdown",
   "metadata": {},
   "source": [
    "**WARNING:** is your implementation numerically stable?\n",
    "\n",
    "The $\\exp$ function results in computations that overflows (i.e. results in numbers that cannot be represented with floating point numbers).\n",
    "Therefore, it is always convenient to use the following trick to improve stability: https://timvieira.github.io/blog/post/2014/02/11/exp-normalize-trick/"
   ]
  },
  {
   "cell_type": "code",
   "execution_count": 12,
   "metadata": {},
   "outputs": [
    {
     "name": "stdout",
     "output_type": "stream",
     "text": [
      "[1. 0. 0.]\n"
     ]
    }
   ],
   "source": [
    "# Example for testing the numerical stability of softmax\n",
    "# It should return [1., 0. ,0.], not [nan, 0., 0.]\n",
    "z = [1000000, 1, 100]\n",
    "print(softmax(z))"
   ]
  },
  {
   "cell_type": "markdown",
   "metadata": {},
   "source": [
    "**Question**: from the result of the cell above, what can you say about the softmax output, even when it is stable?"
   ]
  },
  {
   "cell_type": "code",
   "execution_count": 13,
   "metadata": {},
   "outputs": [],
   "source": [
    "# Réponse : Le résultat est approché"
   ]
  },
  {
   "cell_type": "code",
   "execution_count": 14,
   "metadata": {},
   "outputs": [],
   "source": [
    "# Just too simple test for the softmax function\n",
    "x = np.asarray([0.92424884, -0.92381088, -0.74666024, -0.87705478, -0.54797015])\n",
    "y_gold = np.asarray([0.57467369, 0.09053556, 0.10808233, 0.09486917, 0.13183925])\n",
    "\n",
    "y = softmax(x)\n",
    "if not np.allclose(y, y_gold):\n",
    "\traise RuntimeError(\"Output of the softmax function is incorrect\")"
   ]
  },
  {
   "cell_type": "markdown",
   "metadata": {},
   "source": [
    "Finally, we build the loss function and its gradient for training the network.\n",
    "\n",
    "The loss function is the negative log-likelihood defined as:\n",
    "$$\n",
    "    \\mathcal L(x, gold) = -\\log \\frac{\\exp(x[gold])}{\\sum_j \\exp(x[j])} = -x[gold] + \\log \\sum_j \\exp(x[j])\n",
    "$$\n",
    "This function is also called the cross-entropy loss (in Pytorch, different names are used dependending if the inputs are probabilities or raw logits).\n",
    "\n",
    "Similarly to the softmax, we have to rely on the log-sum-exp trick to stabilize the computation: https://timvieira.github.io/blog/post/2014/02/11/exp-normalize-trick/"
   ]
  },
  {
   "cell_type": "code",
   "execution_count": 15,
   "metadata": {},
   "outputs": [],
   "source": [
    "# Input:\n",
    "# - y: vector of logits\n",
    "# - gold: index of the gold class\n",
    "# Output:\n",
    "# - scalare equal to -log(softmax(y)[gold])\n",
    "def nll(y, gold):\n",
    "\tb = np.array(y).max()\n",
    "\te = np.exp(np.array(y) - b)\n",
    "\treturn -np.log(e[gold] / e.sum())\n",
    "\n",
    "# Input:\n",
    "# - y: vector of logits\n",
    "# - gold: index of the gold class\n",
    "# - gradient (scalar)\n",
    "# Output:\n",
    "# - gradient wrt y\n",
    "def backward_nll(y, gold, g):\n",
    "\tg_y = softmax(y)\n",
    "\tg_y[gold] -= 1.\n",
    "\treturn g_y * g"
   ]
  },
  {
   "cell_type": "code",
   "execution_count": 16,
   "metadata": {},
   "outputs": [],
   "source": [
    "# test\n",
    "x = np.asarray([-0.13590009, -0.83649656,  0.03130881,  0.42559402,  0.08488182])\n",
    "y_gold = 1.5695014420179738\n",
    "g_gold = np.asarray([ 0.17609875,  0.08739591, -0.79185107,  0.30875221,  0.2196042 ])\n",
    "\n",
    "y = nll(x, 2)\n",
    "g = backward_nll(x, 2, 1.)\n",
    "\n",
    "if not np.allclose(y, y_gold):\n",
    "\traise RuntimeError(\"Output is incorrect\")\n",
    "\n",
    "if g.shape != g_gold.shape:\n",
    "\t\traise RuntimeError(\"Unexpected gradient dimension: got %s, expected %s\" % (str(g.shape), str(g_gold.shape)))\n",
    "if not np.allclose(g, g_gold):\n",
    "\traise RuntimeError(\"Gradient is incorrect\")"
   ]
  },
  {
   "cell_type": "markdown",
   "metadata": {},
   "source": [
    "The following code test the implementation of the gradient using finite-difference approximation, see: https://timvieira.github.io/blog/post/2017/04/21/how-to-test-gradient-implementations/\n",
    "\n",
    "Your implementation should pass this test."
   ]
  },
  {
   "cell_type": "code",
   "execution_count": 17,
   "metadata": {},
   "outputs": [],
   "source": [
    "# this is python re-implementation of the test from the Dynet library\n",
    "# https://github.com/clab/dynet/blob/master/dynet/grad-check.cc\n",
    "\n",
    "def is_almost_equal(grad, computed_grad):\n",
    "\t#print(grad, computed_grad)\n",
    "\tf = abs(grad - computed_grad)\n",
    "\tm = max(abs(grad), abs(computed_grad))\n",
    "\n",
    "\tif f > 0.01 and m > 0.:\n",
    "\t\tf /= m\n",
    "\n",
    "\tif f > 0.01 or math.isnan(f):\n",
    "\t\treturn False\n",
    "\telse:\n",
    "\t\treturn True\n",
    "\n",
    "def check_gradient(function, weights, true_grad, alpha = 1e-3):\n",
    "\t# because input can be of any dimension,\n",
    "\t# we build a view of the underlying data with the .shape(-1) method\n",
    "\t# then we can access any element of the tensor as a elements of a list\n",
    "\t# with a single dimension\n",
    "\tweights_view = weights.reshape(-1)\n",
    "\ttrue_grad_view = true_grad.reshape(-1)\n",
    "\tfor i in range(weights_view.shape[0]):\n",
    "\t\told = weights_view[i]\n",
    "\n",
    "\t\tweights_view[i] = old - alpha\n",
    "\t\tvalue_left = function(weights).reshape(-1)\n",
    "\n",
    "\t\tweights_view[i] = old + alpha\n",
    "\t\tvalue_right = function(weights).reshape(-1)\n",
    "\n",
    "\t\tweights_view[i] = old\n",
    "\t\tgrad = (value_right - value_left) / (2. * alpha)\n",
    "\n",
    "\t\tif not is_almost_equal(grad, true_grad_view[i]):\n",
    "\t\t\treturn False\n",
    "\n",
    "\t\treturn True"
   ]
  },
  {
   "cell_type": "code",
   "execution_count": 18,
   "metadata": {},
   "outputs": [
    {
     "name": "stdout",
     "output_type": "stream",
     "text": [
      "True\n",
      "True\n",
      "True\n"
     ]
    }
   ],
   "source": [
    "# Test the affine transformation\n",
    "\n",
    "x = np.random.uniform(-1, 1, (5,))\n",
    "W = np.random.uniform(-1, 1, (3, 5))\n",
    "b = np.random.uniform(-1, 1, (3,))\n",
    "\n",
    "for i in range(3):\n",
    "\ty = affine_transform(W, b, x)\n",
    "\tg = np.zeros_like(y)\n",
    "\tg[i] = 1.\n",
    "\tg_W, _ = backward_affine_transform(W, b, x, g)\n",
    "\tprint(check_gradient(lambda W: affine_transform(W, b, x)[i], W, g_W))"
   ]
  },
  {
   "cell_type": "code",
   "execution_count": 19,
   "metadata": {},
   "outputs": [
    {
     "name": "stdout",
     "output_type": "stream",
     "text": [
      "True\n",
      "True\n",
      "True\n",
      "True\n",
      "True\n"
     ]
    }
   ],
   "source": [
    "# test the negative likelihood loss\n",
    "\n",
    "x = np.random.uniform(-1, 1, (5,))\n",
    "\n",
    "for gold in range(5):\n",
    "\ty = nll(x, gold)\n",
    "\tg_y = backward_nll(x, gold, 1.)\n",
    "\n",
    "\tprint(check_gradient(lambda x: nll(x, gold), x, g_y))"
   ]
  },
  {
   "cell_type": "markdown",
   "metadata": {},
   "source": [
    "# 2. Parameter initialization\n",
    "\n",
    "We are now going to build the function that will be used to initialize the parameters of the neural network before training.\n",
    "Note that for parameter initialization you must use **in-place** operations:"
   ]
  },
  {
   "cell_type": "code",
   "execution_count": 20,
   "metadata": {},
   "outputs": [],
   "source": [
    "# create a random ndarray\n",
    "a = np.random.uniform(-1, 1, (5,))\n",
    "\n",
    "# this does not change the data of the ndarray created above!\n",
    "# it creates a new ndarray and replace the reference stored in a\n",
    "a = np.zeros((5, ))\n",
    "\n",
    "# this will change the underlying data of the ndarray that a points to\n",
    "a[:] = 0\n",
    "\n",
    "# similarly, this creates a new array and change the object pointed by a\n",
    "a = a + 1\n",
    "\n",
    "# while this change the underlying data of a\n",
    "a += 1"
   ]
  },
  {
   "cell_type": "markdown",
   "metadata": {},
   "source": [
    "For an affine transformation, it is common to:\n",
    "* initialize the bias to 0\n",
    "* initialize the projection matrix with Glorot initialization (also known as Xavier initialization)\n",
    "\n",
    "The formula for Glorot initialization can be found in equation 16 (page 5) of the original paper: http://proceedings.mlr.press/v9/glorot10a/glorot10a.pdf"
   ]
  },
  {
   "cell_type": "code",
   "execution_count": 21,
   "metadata": {},
   "outputs": [],
   "source": [
    "def zero_init(b):\n",
    "\treturn np.zeros(len(b))\n",
    "\n",
    "def glorot_init(W):\n",
    "\trange = np.sqrt(6.) / np.sqrt(len(W) + len(W[0]))\n",
    "\treturn np.random.uniform(-range, range, size = W.shape)"
   ]
  },
  {
   "cell_type": "markdown",
   "metadata": {},
   "source": [
    "# 3. Building and training the neural network\n",
    "\n",
    "In our simple example, creating the neural network is simply instantiating the parameters $W$ and $b$.\n",
    "They must be ndarray object with the correct dimensions."
   ]
  },
  {
   "cell_type": "code",
   "execution_count": 22,
   "metadata": {},
   "outputs": [],
   "source": [
    "def create_parameters(dim_input, dim_output):\n",
    "\tW = glorot_init(np.zeros((dim_output, dim_input)))\n",
    "\tb = zero_init(np.zeros(dim_output))\n",
    "\treturn W, b"
   ]
  },
  {
   "cell_type": "markdown",
   "metadata": {},
   "source": [
    "The recent success of deep learning is (partly) due to the ability to train very big neural networks.\n",
    "However, researchers became interested in building small neural networks to improve computational efficiency and memory usage.\n",
    "Therefore, we often want to compare neural networks by their number of parameters, i.e. the size of the memory required to store the parameters."
   ]
  },
  {
   "cell_type": "code",
   "execution_count": 23,
   "metadata": {},
   "outputs": [],
   "source": [
    "def print_n_parameters(W, b):\n",
    "\tn = len(W) * len(W[0]) + len(b)\n",
    "\tprint(\"Number of parameters: %i\" % (n))"
   ]
  },
  {
   "cell_type": "markdown",
   "metadata": {},
   "source": [
    "We can now create the neural network and print its number of parameters:"
   ]
  },
  {
   "cell_type": "code",
   "execution_count": 24,
   "metadata": {},
   "outputs": [
    {
     "name": "stdout",
     "output_type": "stream",
     "text": [
      "Number of parameters: 7850\n"
     ]
    }
   ],
   "source": [
    "dim_input = 28 * 28\n",
    "dim_output = 10\n",
    "W, b = create_parameters(dim_input, dim_output)\n",
    "print_n_parameters(W, b)"
   ]
  },
  {
   "cell_type": "markdown",
   "metadata": {},
   "source": [
    "Finally, the training loop!\n",
    "\n",
    "The training loop should be structured as follows:\n",
    "* we do **epochs** over the data, i.e. one epoch is one loop over the dataset\n",
    "* at each epoch, we first loop over the data and update the network parameters with respect to the loss gradient\n",
    "* at the end of each epoch, we evaluate the network on the dev dataset\n",
    "* after all epochs are done, we evaluate our network on the test dataset and compare its performance with the performance on dev\n",
    "\n",
    "During training, it is useful to print the following information:\n",
    "* the mean loss over the epoch: it should be decreasing!\n",
    "* the accuracy on the dev set: it should be increasing!\n",
    "* the accuracy on the train set: it shoud be increasing!\n",
    "\n",
    "If you observe a decreasing loss (+increasing accuracy on test data) but decreasing accuracy on dev data, your network is overfitting!\n",
    "\n",
    "Once you have build **and tested** this a simple training loop, you should introduce the following improvements:\n",
    "* instead of evaluating on dev after each loop on the training data, you can also evaluate on dev n times per epoch\n",
    "* shuffle the data before each epoch\n",
    "* instead of memorizing the parameters of the last epoch only, you should have a copy of the parameters that produced the best value on dev data during training and evaluate on test with those instead of the parameters after the last epoch\n",
    "* learning rate decay: if you do not observe improvement on dev, you can try to reduce the step size\n",
    "\n",
    "After you conducted (successful?) experiments, you should write a report with results."
   ]
  },
  {
   "cell_type": "code",
   "execution_count": 25,
   "metadata": {},
   "outputs": [],
   "source": [
    "def shuffle(data):\n",
    "\tindex_list = np.array([i for i in range(len(data[0]))])\n",
    "\tnp.random.shuffle(index_list)\n",
    "\tdata[0] = data[0][index_list]\n",
    "\tdata[1] = data[1][index_list]"
   ]
  },
  {
   "cell_type": "code",
   "execution_count": 26,
   "metadata": {},
   "outputs": [],
   "source": [
    "def test(W, b, data):\n",
    "\n",
    "\tloss_sum = 0.\n",
    "\tnb_success = 0\n",
    "\tnb_data, nb_feature, nb_label = getDimDataset(data)\n",
    "\tx = data[0]\n",
    "\tgold = data[1]\n",
    "\n",
    "\tfor i in range(nb_data):\n",
    "\n",
    "\t\ty = affine_transform(W, b, x[i])\n",
    "\t\to = softmax(y)\n",
    "\n",
    "\t\tloss_sum += nll(y, gold[i])\n",
    "\n",
    "\t\tif o.argmax() == gold[i]:\n",
    "\t\t\tnb_success += 1\n",
    "\n",
    "\treturn nb_success / nb_data, loss_sum / nb_data"
   ]
  },
  {
   "cell_type": "code",
   "execution_count": 27,
   "metadata": {},
   "outputs": [],
   "source": [
    "def train(train_data, dev_data, step, epochs, batch_size):\n",
    "\n",
    "\tnb_data, nb_feature, nb_label = getDimDataset(train_data)\n",
    "\tW, b = create_parameters(nb_feature, nb_label)\n",
    "\tbest_dev = 100000.\n",
    "\tbest_W = deepcopy(W)\n",
    "\tbest_b = deepcopy(b)\n",
    "\n",
    "\tfor epoch in range(epochs):\n",
    "\n",
    "\t\tdev_loss = 100000.\n",
    "\t\tshuffle(train_data)\n",
    "\t\tx = train_data[0]\n",
    "\t\tgold = train_data[1]\n",
    "\n",
    "\t\tfor batch in range(int(nb_data / batch_size)):\n",
    "\n",
    "\t\t\tloss_sum = 0.\n",
    "\t\t\tnb_success = 0\n",
    "\n",
    "\t\t\tfor i in range(batch * batch_size, (batch + 1) * batch_size):\n",
    "\n",
    "\t\t\t\t# Forward\n",
    "\t\t\t\ty = affine_transform(W, b, x[i])\n",
    "\t\t\t\to = softmax(y)\n",
    "\t\t\t\tloss_sum += nll(y, gold[i])\n",
    "\n",
    "\t\t\t\tif o.argmax() == gold[i]:\n",
    "\t\t\t\t\tnb_success += 1\n",
    "\n",
    "\t\t\t\t# Backward\n",
    "\t\t\t\tg = backward_nll(y, gold[i], 1.)\n",
    "\t\t\t\tg_W, g_b = backward_affine_transform(W, b, x[i], g)\n",
    "\n",
    "\t\t\t\t# Update\n",
    "\t\t\t\tW -= step * g_W\n",
    "\t\t\t\tb -= step * g_b\n",
    "\n",
    "\t\t\t# Tests\n",
    "\t\t\tloss = loss_sum / batch_size\n",
    "\t\t\taccuracy = nb_success / batch_size\n",
    "\t\t\tdev_accuracy, new_dev_loss = test(W, b, dev_data)\n",
    "\n",
    "\t\t\t# Lower the step\n",
    "\t\t\tif new_dev_loss > dev_loss:\n",
    "\t\t\t\tstep *= 0.9\n",
    "\n",
    "\t\t\tdev_loss = new_dev_loss\n",
    "\n",
    "\t\t\t# Save the best model\n",
    "\t\t\tif dev_loss < best_dev :\n",
    "\t\t\t\tbest_W, best_b = deepcopy(W), deepcopy(b)\n",
    "\t\t\t\tbest_dev = dev_loss\n",
    "\n",
    "\t\t\t# Print\n",
    "\t\t\tmsg = \"Epoch %i | batch %i | train loss: %.2f | train accuracy: %.1f%% | dev loss: %.2f | dev accuracy: %.1f%%\" % (epoch + 1, batch + 1, loss, accuracy * 100., dev_loss, dev_accuracy * 100.)\n",
    "\t\t\tif batch == int(nb_data / batch_size) - 1: print(msg)\n",
    "\t\t\telse: print(msg, end = \"\\r\")\n",
    "\n",
    "\treturn best_W, best_b"
   ]
  },
  {
   "cell_type": "code",
   "execution_count": 29,
   "metadata": {},
   "outputs": [
    {
     "name": "stdout",
     "output_type": "stream",
     "text": [
      "Training...\n",
      "\n",
      "Epoch 1 | batch 10 | train loss: 0.33 | train accuracy: 90.3% | dev loss: 0.29 | dev accuracy: 91.8%\n",
      "Epoch 2 | batch 10 | train loss: 0.30 | train accuracy: 91.8% | dev loss: 0.27 | dev accuracy: 92.4%\n",
      "Epoch 3 | batch 10 | train loss: 0.30 | train accuracy: 91.7% | dev loss: 0.28 | dev accuracy: 92.5%\n",
      "Epoch 4 | batch 10 | train loss: 0.29 | train accuracy: 91.7% | dev loss: 0.27 | dev accuracy: 92.6%\n",
      "Epoch 5 | batch 10 | train loss: 0.28 | train accuracy: 92.4% | dev loss: 0.26 | dev accuracy: 92.8%\n",
      "Epoch 6 | batch 10 | train loss: 0.24 | train accuracy: 93.3% | dev loss: 0.26 | dev accuracy: 92.7%\n",
      "Epoch 7 | batch 10 | train loss: 0.25 | train accuracy: 92.6% | dev loss: 0.26 | dev accuracy: 92.7%\n",
      "Epoch 8 | batch 10 | train loss: 0.29 | train accuracy: 91.8% | dev loss: 0.26 | dev accuracy: 92.7%\n",
      "Epoch 9 | batch 10 | train loss: 0.27 | train accuracy: 92.7% | dev loss: 0.26 | dev accuracy: 92.8%\n",
      "Epoch 10 | batch 10 | train loss: 0.26 | train accuracy: 92.7% | dev loss: 0.26 | dev accuracy: 92.8%\n",
      "\n",
      "Testing...\n",
      "\n",
      "Test accuracy: 92.4%\n"
     ]
    }
   ],
   "source": [
    "epochs = 10\n",
    "batch_size = 5000\n",
    "step = 0.01\n",
    "\n",
    "print(\"Training...\\n\")\n",
    "W, b = train(train_data, dev_data, step, epochs, batch_size)\n",
    "\n",
    "print(\"\\nTesting...\\n\")\n",
    "test_accuracy, test_loss = test(W, b, test_data)\n",
    "print(\"Test accuracy: %.1f%%\" % (test_accuracy * 100.))"
   ]
  }
 ],
 "metadata": {
  "anaconda-cloud": {},
  "kernelspec": {
   "display_name": "Python 3 (ipykernel)",
   "language": "python",
   "name": "python3"
  },
  "language_info": {
   "codemirror_mode": {
    "name": "ipython",
    "version": 3
   },
   "file_extension": ".py",
   "mimetype": "text/x-python",
   "name": "python",
   "nbconvert_exporter": "python",
   "pygments_lexer": "ipython3",
   "version": "3.10.0"
  }
 },
 "nbformat": 4,
 "nbformat_minor": 1
}
